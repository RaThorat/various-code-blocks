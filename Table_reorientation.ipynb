{
 "cells": [
  {
   "cell_type": "code",
   "execution_count": 7,
   "id": "ab8a17ea",
   "metadata": {},
   "outputs": [
    {
     "data": {
      "text/html": [
       "<div>\n",
       "<style scoped>\n",
       "    .dataframe tbody tr th:only-of-type {\n",
       "        vertical-align: middle;\n",
       "    }\n",
       "\n",
       "    .dataframe tbody tr th {\n",
       "        vertical-align: top;\n",
       "    }\n",
       "\n",
       "    .dataframe thead th {\n",
       "        text-align: right;\n",
       "    }\n",
       "</style>\n",
       "<table border=\"1\" class=\"dataframe\">\n",
       "  <thead>\n",
       "    <tr style=\"text-align: right;\">\n",
       "      <th></th>\n",
       "      <th>Application number</th>\n",
       "      <th>Applicant</th>\n",
       "      <th>Gender</th>\n",
       "      <th>Title</th>\n",
       "      <th>Keyword</th>\n",
       "    </tr>\n",
       "  </thead>\n",
       "  <tbody>\n",
       "    <tr>\n",
       "      <th>0</th>\n",
       "      <td>1</td>\n",
       "      <td>John Johnson</td>\n",
       "      <td>m</td>\n",
       "      <td>Symplectic symmetry</td>\n",
       "      <td>Maths</td>\n",
       "    </tr>\n",
       "    <tr>\n",
       "      <th>1</th>\n",
       "      <td>1</td>\n",
       "      <td>John Johnson</td>\n",
       "      <td>m</td>\n",
       "      <td>Symplectic symmetry</td>\n",
       "      <td>trignometry</td>\n",
       "    </tr>\n",
       "    <tr>\n",
       "      <th>2</th>\n",
       "      <td>1</td>\n",
       "      <td>John Johnson</td>\n",
       "      <td>m</td>\n",
       "      <td>Symplectic symmetry</td>\n",
       "      <td>Analysis</td>\n",
       "    </tr>\n",
       "    <tr>\n",
       "      <th>3</th>\n",
       "      <td>1</td>\n",
       "      <td>John Johnson</td>\n",
       "      <td>m</td>\n",
       "      <td>Symplectic symmetry</td>\n",
       "      <td>Algebra</td>\n",
       "    </tr>\n",
       "    <tr>\n",
       "      <th>4</th>\n",
       "      <td>1</td>\n",
       "      <td>John Johnson</td>\n",
       "      <td>m</td>\n",
       "      <td>Symplectic symmetry</td>\n",
       "      <td>Hypothesis</td>\n",
       "    </tr>\n",
       "  </tbody>\n",
       "</table>\n",
       "</div>"
      ],
      "text/plain": [
       "   Application number     Applicant Gender                Title      Keyword\n",
       "0                   1  John Johnson      m  Symplectic symmetry        Maths\n",
       "1                   1  John Johnson      m  Symplectic symmetry  trignometry\n",
       "2                   1  John Johnson      m  Symplectic symmetry     Analysis\n",
       "3                   1  John Johnson      m  Symplectic symmetry      Algebra\n",
       "4                   1  John Johnson      m  Symplectic symmetry   Hypothesis"
      ]
     },
     "execution_count": 7,
     "metadata": {},
     "output_type": "execute_result"
    }
   ],
   "source": [
    "import pandas as pd\n",
    "\n",
    "df = pd.DataFrame({'Application number': [1,1,1,1,1,1,2,2,2,2,2,3,3,3],\n",
    "        'Applicant': ['John Johnson','John Johnson','John Johnson','John Johnson','John Johnson','John Johnson','Ryan Rosling','Ryan Rosling','Ryan Rosling','Ryan Rosling','Ryan Rosling','Gee Gettysbeurg','Gee Gettysbeurg','Gee Gettysbeurg'],\n",
    "        'Gender': ['m','m','m','m','m','m','m','m','m','m','m','v','v','v'],'Title':['Symplectic symmetry','Symplectic symmetry','Symplectic symmetry','Symplectic symmetry','Symplectic symmetry','Symplectic symmetry', 'Exploring protein synthesis', 'Exploring protein synthesis', 'Exploring protein synthesis', 'Exploring protein synthesis', 'Exploring protein synthesis', 'auxin-response pathway','auxin-response pathway','auxin-response pathway' ], 'Keyword':['Maths', 'trignometry', 'Analysis', 'Algebra', 'Hypothesis', 'DNA', 'mitochondria', 'RNA', 'Brain', 'Cellstructure', 'Life', 'Blood', 'analysis', 'blood circulation']  })\n",
    "df.head()\n"
   ]
  },
  {
   "cell_type": "code",
   "execution_count": 8,
   "id": "0d538c49",
   "metadata": {},
   "outputs": [],
   "source": [
    "#Reorienting the table to make keywords appear in rows\n",
    "df_pv2 = df.groupby(\n",
    "    ['Application number', 'Applicant', 'Gender', 'Title'],\n",
    ")['Keyword'].agg(', '.join).reset_index(name='Keywords')"
   ]
  },
  {
   "cell_type": "code",
   "execution_count": 9,
   "id": "88c22686",
   "metadata": {},
   "outputs": [
    {
     "data": {
      "text/html": [
       "<div>\n",
       "<style scoped>\n",
       "    .dataframe tbody tr th:only-of-type {\n",
       "        vertical-align: middle;\n",
       "    }\n",
       "\n",
       "    .dataframe tbody tr th {\n",
       "        vertical-align: top;\n",
       "    }\n",
       "\n",
       "    .dataframe thead th {\n",
       "        text-align: right;\n",
       "    }\n",
       "</style>\n",
       "<table border=\"1\" class=\"dataframe\">\n",
       "  <thead>\n",
       "    <tr style=\"text-align: right;\">\n",
       "      <th></th>\n",
       "      <th>Application number</th>\n",
       "      <th>Applicant</th>\n",
       "      <th>Gender</th>\n",
       "      <th>Title</th>\n",
       "      <th>Keywords</th>\n",
       "    </tr>\n",
       "  </thead>\n",
       "  <tbody>\n",
       "    <tr>\n",
       "      <th>0</th>\n",
       "      <td>1</td>\n",
       "      <td>John Johnson</td>\n",
       "      <td>m</td>\n",
       "      <td>Symplectic symmetry</td>\n",
       "      <td>Maths, trignometry, Analysis, Algebra, Hypothe...</td>\n",
       "    </tr>\n",
       "    <tr>\n",
       "      <th>1</th>\n",
       "      <td>2</td>\n",
       "      <td>Ryan Rosling</td>\n",
       "      <td>m</td>\n",
       "      <td>Exploring protein synthesis</td>\n",
       "      <td>mitochondria, RNA, Brain, Cellstructure, Life</td>\n",
       "    </tr>\n",
       "    <tr>\n",
       "      <th>2</th>\n",
       "      <td>3</td>\n",
       "      <td>Gee Gettysbeurg</td>\n",
       "      <td>v</td>\n",
       "      <td>auxin-response pathway</td>\n",
       "      <td>Blood, analysis, blood circulation</td>\n",
       "    </tr>\n",
       "  </tbody>\n",
       "</table>\n",
       "</div>"
      ],
      "text/plain": [
       "   Application number        Applicant Gender                        Title  \\\n",
       "0                   1     John Johnson      m          Symplectic symmetry   \n",
       "1                   2     Ryan Rosling      m  Exploring protein synthesis   \n",
       "2                   3  Gee Gettysbeurg      v       auxin-response pathway   \n",
       "\n",
       "                                            Keywords  \n",
       "0  Maths, trignometry, Analysis, Algebra, Hypothe...  \n",
       "1      mitochondria, RNA, Brain, Cellstructure, Life  \n",
       "2                 Blood, analysis, blood circulation  "
      ]
     },
     "execution_count": 9,
     "metadata": {},
     "output_type": "execute_result"
    }
   ],
   "source": [
    "df_pv2.head()"
   ]
  },
  {
   "cell_type": "code",
   "execution_count": null,
   "id": "17510666",
   "metadata": {},
   "outputs": [],
   "source": []
  }
 ],
 "metadata": {
  "kernelspec": {
   "display_name": "Python 3 (ipykernel)",
   "language": "python",
   "name": "python3"
  },
  "language_info": {
   "codemirror_mode": {
    "name": "ipython",
    "version": 3
   },
   "file_extension": ".py",
   "mimetype": "text/x-python",
   "name": "python",
   "nbconvert_exporter": "python",
   "pygments_lexer": "ipython3",
   "version": "3.9.12"
  }
 },
 "nbformat": 4,
 "nbformat_minor": 5
}
