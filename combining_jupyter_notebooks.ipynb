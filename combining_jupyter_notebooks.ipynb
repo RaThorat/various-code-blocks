#combining files 1 to 5 in a main ipynb file
!nbmerge file1.ipynb file2.ipynb file3.ipynb file4.ipynb file5.ipynb -o main.ipynb
