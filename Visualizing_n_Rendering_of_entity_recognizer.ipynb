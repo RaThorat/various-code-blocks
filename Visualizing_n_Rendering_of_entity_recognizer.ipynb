{
 "cells": [
  {
   "cell_type": "markdown",
   "id": "a825abaf",
   "metadata": {},
   "source": [
    "# Visualizing the entity recognizer"
   ]
  },
  {
   "cell_type": "code",
   "execution_count": null,
   "id": "122b00b2",
   "metadata": {},
   "outputs": [],
   "source": [
    "import spacy\n",
    "from spacy import displacy\n",
    "from pathlib import Path\n",
    "\n",
    "nlp = spacy.load(\"your_ner_model\")"
   ]
  },
  {
   "cell_type": "code",
   "execution_count": null,
   "id": "d9b7cef3",
   "metadata": {},
   "outputs": [],
   "source": [
    "doc1='Your text : Casimir was born 15 July 1909. He studied theoretical physics at the University of Leiden under Paul Ehrenfest, where he received his Ph.D. in 1931. His Ph.D. thesis dealt with the quantum mechanics of a rigid spinning body and the group theory of the rotations of molecules. During that time he also spent some time in Copenhagen with Niels Bohr.'"
   ]
  },
  {
   "cell_type": "code",
   "execution_count": null,
   "id": "18104980",
   "metadata": {},
   "outputs": [],
   "source": [
    "doc = nlp(doc1)"
   ]
  },
  {
   "cell_type": "code",
   "execution_count": null,
   "id": "a0a52f97",
   "metadata": {},
   "outputs": [],
   "source": [
    "displacy.serve(doc, style=\"ent\")"
   ]
  },
  {
   "cell_type": "markdown",
   "id": "a063abe2",
   "metadata": {},
   "source": [
    "# Rendering HTML"
   ]
  },
  {
   "cell_type": "markdown",
   "id": "076d1185",
   "metadata": {},
   "source": [
    "Export SVG graphics of dependency parses"
   ]
  },
  {
   "cell_type": "code",
   "execution_count": null,
   "id": "20cfabbc",
   "metadata": {},
   "outputs": [],
   "source": [
    "svg = displacy.render(doc, style=\"dep\")\n",
    "output_path = Path(\"/home/gebruiker/Documenten/dependency_plot.svg\")\n",
    "output_path.open(\"w\", encoding=\"utf-8\").write(svg)"
   ]
  },
  {
   "cell_type": "code",
   "execution_count": null,
   "id": "3705db78",
   "metadata": {},
   "outputs": [],
   "source": []
  }
 ],
 "metadata": {
  "kernelspec": {
   "display_name": "Python 3 (ipykernel)",
   "language": "python",
   "name": "python3"
  },
  "language_info": {
   "codemirror_mode": {
    "name": "ipython",
    "version": 3
   },
   "file_extension": ".py",
   "mimetype": "text/x-python",
   "name": "python",
   "nbconvert_exporter": "python",
   "pygments_lexer": "ipython3",
   "version": "3.9.12"
  }
 },
 "nbformat": 4,
 "nbformat_minor": 5
}
