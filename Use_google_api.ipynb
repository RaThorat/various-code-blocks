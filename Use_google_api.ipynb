GOOGLE_KEY = 'xxxxxxxx'

import requests

address = "Droevendaalsesteeg 10 6708 PB Wageningen"

response = requests.get(
    'https://maps.googleapis.com/maps/api/geocode/json?key={}&address={}' \
    .format(GOOGLE_KEY,address))

resp_json_payload = response.json()

if 'error_message' in resp_json_payload:
    print(resp_json_payload['error_message'])
else:
    print(resp_json_payload['results'][0]['geometry']['location'])
